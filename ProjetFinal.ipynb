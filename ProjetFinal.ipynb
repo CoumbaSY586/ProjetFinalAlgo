{
 "cells": [
  {
   "cell_type": "markdown",
   "metadata": {},
   "source": [
    "## Partie 1"
   ]
  },
  {
   "cell_type": "markdown",
   "metadata": {},
   "source": [
    "#### Decouvrir les librairies pandas, networkx, folium"
   ]
  },
  {
   "cell_type": "code",
   "execution_count": 371,
   "metadata": {},
   "outputs": [],
   "source": [
    "import pandas as pd\n",
    "import networkx as nx\n",
    "import matplotlib.pyplot as plt\n",
    "import csv\n",
    "\n",
    "%matplotlib inline"
   ]
  },
  {
   "cell_type": "markdown",
   "metadata": {},
   "source": [
    "##### TODO: Utilisez la bibliothéque pandas pour lire les fichiers transport-nodes.csv et transport-relationships.csv"
   ]
  },
  {
   "cell_type": "code",
   "execution_count": 372,
   "metadata": {},
   "outputs": [],
   "source": [
    "transport_nodes = pd.read_csv('data/transport-nodes.csv')\n",
    "transport_arcs = pd.read_csv('data/transport-relationships.csv')"
   ]
  },
  {
   "cell_type": "code",
   "execution_count": 373,
   "metadata": {},
   "outputs": [
    {
     "data": {
      "text/html": [
       "<div>\n",
       "<style scoped>\n",
       "    .dataframe tbody tr th:only-of-type {\n",
       "        vertical-align: middle;\n",
       "    }\n",
       "\n",
       "    .dataframe tbody tr th {\n",
       "        vertical-align: top;\n",
       "    }\n",
       "\n",
       "    .dataframe thead th {\n",
       "        text-align: right;\n",
       "    }\n",
       "</style>\n",
       "<table border=\"1\" class=\"dataframe\">\n",
       "  <thead>\n",
       "    <tr style=\"text-align: right;\">\n",
       "      <th></th>\n",
       "      <th>id</th>\n",
       "      <th>latitude</th>\n",
       "      <th>longitude</th>\n",
       "      <th>population</th>\n",
       "    </tr>\n",
       "  </thead>\n",
       "  <tbody>\n",
       "    <tr>\n",
       "      <td>0</td>\n",
       "      <td>Amsterdam</td>\n",
       "      <td>52.379189</td>\n",
       "      <td>4.899431</td>\n",
       "      <td>821752</td>\n",
       "    </tr>\n",
       "    <tr>\n",
       "      <td>1</td>\n",
       "      <td>Utrecht</td>\n",
       "      <td>52.092876</td>\n",
       "      <td>5.104480</td>\n",
       "      <td>334176</td>\n",
       "    </tr>\n",
       "    <tr>\n",
       "      <td>2</td>\n",
       "      <td>Den Haag</td>\n",
       "      <td>52.078663</td>\n",
       "      <td>4.288788</td>\n",
       "      <td>514861</td>\n",
       "    </tr>\n",
       "    <tr>\n",
       "      <td>3</td>\n",
       "      <td>Immingham</td>\n",
       "      <td>53.612390</td>\n",
       "      <td>-0.222190</td>\n",
       "      <td>9642</td>\n",
       "    </tr>\n",
       "    <tr>\n",
       "      <td>4</td>\n",
       "      <td>Doncaster</td>\n",
       "      <td>53.522850</td>\n",
       "      <td>-1.131160</td>\n",
       "      <td>302400</td>\n",
       "    </tr>\n",
       "    <tr>\n",
       "      <td>5</td>\n",
       "      <td>Hoek van Holland</td>\n",
       "      <td>51.977500</td>\n",
       "      <td>4.133330</td>\n",
       "      <td>9382</td>\n",
       "    </tr>\n",
       "    <tr>\n",
       "      <td>6</td>\n",
       "      <td>Felixstowe</td>\n",
       "      <td>51.963750</td>\n",
       "      <td>1.351100</td>\n",
       "      <td>23689</td>\n",
       "    </tr>\n",
       "    <tr>\n",
       "      <td>7</td>\n",
       "      <td>Ipswich</td>\n",
       "      <td>52.059170</td>\n",
       "      <td>1.155450</td>\n",
       "      <td>133384</td>\n",
       "    </tr>\n",
       "    <tr>\n",
       "      <td>8</td>\n",
       "      <td>Colchester</td>\n",
       "      <td>51.889210</td>\n",
       "      <td>0.904210</td>\n",
       "      <td>104390</td>\n",
       "    </tr>\n",
       "    <tr>\n",
       "      <td>9</td>\n",
       "      <td>London</td>\n",
       "      <td>51.509865</td>\n",
       "      <td>-0.118092</td>\n",
       "      <td>8787892</td>\n",
       "    </tr>\n",
       "    <tr>\n",
       "      <td>10</td>\n",
       "      <td>Rotterdam</td>\n",
       "      <td>51.922500</td>\n",
       "      <td>4.479170</td>\n",
       "      <td>623652</td>\n",
       "    </tr>\n",
       "    <tr>\n",
       "      <td>11</td>\n",
       "      <td>Gouda</td>\n",
       "      <td>52.016670</td>\n",
       "      <td>4.708330</td>\n",
       "      <td>70939</td>\n",
       "    </tr>\n",
       "  </tbody>\n",
       "</table>\n",
       "</div>"
      ],
      "text/plain": [
       "                  id   latitude  longitude  population\n",
       "0          Amsterdam  52.379189   4.899431      821752\n",
       "1            Utrecht  52.092876   5.104480      334176\n",
       "2           Den Haag  52.078663   4.288788      514861\n",
       "3          Immingham  53.612390  -0.222190        9642\n",
       "4          Doncaster  53.522850  -1.131160      302400\n",
       "5   Hoek van Holland  51.977500   4.133330        9382\n",
       "6         Felixstowe  51.963750   1.351100       23689\n",
       "7            Ipswich  52.059170   1.155450      133384\n",
       "8         Colchester  51.889210   0.904210      104390\n",
       "9             London  51.509865  -0.118092     8787892\n",
       "10         Rotterdam  51.922500   4.479170      623652\n",
       "11             Gouda  52.016670   4.708330       70939"
      ]
     },
     "execution_count": 373,
     "metadata": {},
     "output_type": "execute_result"
    }
   ],
   "source": [
    "transport_nodes\n"
   ]
  },
  {
   "cell_type": "code",
   "execution_count": 374,
   "metadata": {},
   "outputs": [
    {
     "data": {
      "text/html": [
       "<div>\n",
       "<style scoped>\n",
       "    .dataframe tbody tr th:only-of-type {\n",
       "        vertical-align: middle;\n",
       "    }\n",
       "\n",
       "    .dataframe tbody tr th {\n",
       "        vertical-align: top;\n",
       "    }\n",
       "\n",
       "    .dataframe thead th {\n",
       "        text-align: right;\n",
       "    }\n",
       "</style>\n",
       "<table border=\"1\" class=\"dataframe\">\n",
       "  <thead>\n",
       "    <tr style=\"text-align: right;\">\n",
       "      <th></th>\n",
       "      <th>src</th>\n",
       "      <th>dst</th>\n",
       "      <th>relationship</th>\n",
       "      <th>cost</th>\n",
       "    </tr>\n",
       "  </thead>\n",
       "  <tbody>\n",
       "    <tr>\n",
       "      <td>0</td>\n",
       "      <td>Amsterdam</td>\n",
       "      <td>Utrecht</td>\n",
       "      <td>EROAD</td>\n",
       "      <td>46</td>\n",
       "    </tr>\n",
       "    <tr>\n",
       "      <td>1</td>\n",
       "      <td>Amsterdam</td>\n",
       "      <td>Den Haag</td>\n",
       "      <td>EROAD</td>\n",
       "      <td>59</td>\n",
       "    </tr>\n",
       "    <tr>\n",
       "      <td>2</td>\n",
       "      <td>Den Haag</td>\n",
       "      <td>Rotterdam</td>\n",
       "      <td>EROAD</td>\n",
       "      <td>26</td>\n",
       "    </tr>\n",
       "    <tr>\n",
       "      <td>3</td>\n",
       "      <td>Amsterdam</td>\n",
       "      <td>Immingham</td>\n",
       "      <td>EROAD</td>\n",
       "      <td>369</td>\n",
       "    </tr>\n",
       "    <tr>\n",
       "      <td>4</td>\n",
       "      <td>Immingham</td>\n",
       "      <td>Doncaster</td>\n",
       "      <td>EROAD</td>\n",
       "      <td>74</td>\n",
       "    </tr>\n",
       "    <tr>\n",
       "      <td>5</td>\n",
       "      <td>Doncaster</td>\n",
       "      <td>London</td>\n",
       "      <td>EROAD</td>\n",
       "      <td>277</td>\n",
       "    </tr>\n",
       "    <tr>\n",
       "      <td>6</td>\n",
       "      <td>Hoek van Holland</td>\n",
       "      <td>Den Haag</td>\n",
       "      <td>EROAD</td>\n",
       "      <td>27</td>\n",
       "    </tr>\n",
       "    <tr>\n",
       "      <td>7</td>\n",
       "      <td>Felixstowe</td>\n",
       "      <td>Hoek van Holland</td>\n",
       "      <td>EROAD</td>\n",
       "      <td>207</td>\n",
       "    </tr>\n",
       "    <tr>\n",
       "      <td>8</td>\n",
       "      <td>Ipswich</td>\n",
       "      <td>Felixstowe</td>\n",
       "      <td>EROAD</td>\n",
       "      <td>22</td>\n",
       "    </tr>\n",
       "    <tr>\n",
       "      <td>9</td>\n",
       "      <td>Colchester</td>\n",
       "      <td>Ipswich</td>\n",
       "      <td>EROAD</td>\n",
       "      <td>32</td>\n",
       "    </tr>\n",
       "    <tr>\n",
       "      <td>10</td>\n",
       "      <td>London</td>\n",
       "      <td>Colchester</td>\n",
       "      <td>EROAD</td>\n",
       "      <td>106</td>\n",
       "    </tr>\n",
       "    <tr>\n",
       "      <td>11</td>\n",
       "      <td>Gouda</td>\n",
       "      <td>Rotterdam</td>\n",
       "      <td>EROAD</td>\n",
       "      <td>25</td>\n",
       "    </tr>\n",
       "    <tr>\n",
       "      <td>12</td>\n",
       "      <td>Gouda</td>\n",
       "      <td>Utrecht</td>\n",
       "      <td>EROAD</td>\n",
       "      <td>35</td>\n",
       "    </tr>\n",
       "    <tr>\n",
       "      <td>13</td>\n",
       "      <td>Den Haag</td>\n",
       "      <td>Gouda</td>\n",
       "      <td>EROAD</td>\n",
       "      <td>32</td>\n",
       "    </tr>\n",
       "    <tr>\n",
       "      <td>14</td>\n",
       "      <td>Hoek van Holland</td>\n",
       "      <td>Rotterdam</td>\n",
       "      <td>EROAD</td>\n",
       "      <td>33</td>\n",
       "    </tr>\n",
       "  </tbody>\n",
       "</table>\n",
       "</div>"
      ],
      "text/plain": [
       "                 src               dst relationship  cost\n",
       "0          Amsterdam           Utrecht        EROAD    46\n",
       "1          Amsterdam          Den Haag        EROAD    59\n",
       "2           Den Haag         Rotterdam        EROAD    26\n",
       "3          Amsterdam         Immingham        EROAD   369\n",
       "4          Immingham         Doncaster        EROAD    74\n",
       "5          Doncaster            London        EROAD   277\n",
       "6   Hoek van Holland          Den Haag        EROAD    27\n",
       "7         Felixstowe  Hoek van Holland        EROAD   207\n",
       "8            Ipswich        Felixstowe        EROAD    22\n",
       "9         Colchester           Ipswich        EROAD    32\n",
       "10            London        Colchester        EROAD   106\n",
       "11             Gouda         Rotterdam        EROAD    25\n",
       "12             Gouda           Utrecht        EROAD    35\n",
       "13          Den Haag             Gouda        EROAD    32\n",
       "14  Hoek van Holland         Rotterdam        EROAD    33"
      ]
     },
     "execution_count": 374,
     "metadata": {},
     "output_type": "execute_result"
    }
   ],
   "source": [
    "transport_arcs"
   ]
  },
  {
   "cell_type": "markdown",
   "metadata": {},
   "source": [
    "##### TODO: Construire le graphe et le visualiser avec la fonction from_pandas_dataframe de networkx"
   ]
  },
  {
   "cell_type": "code",
   "execution_count": 375,
   "metadata": {},
   "outputs": [
    {
     "data": {
      "image/png": "[encoded data removed]",
      "text/plain": [
       "<Figure size 432x288 with 1 Axes>"
      ]
     },
     "metadata": {},
     "output_type": "display_data"
    }
   ],
   "source": [
    "Graphe = nx.Graph()\n",
    "Graphe = nx.from_pandas_edgelist(transport_arcs, 'src', 'dst',True)\n",
    "nx.draw_networkx(Graphe, node_color=\"red\", with_labels = False)\n",
    "\n"
   ]
  },
  {
   "cell_type": "code",
   "execution_count": 376,
   "metadata": {
    "scrolled": true
   },
   "outputs": [
    {
     "data": {
      "text/plain": [
       "{'Amsterdam': {},\n",
       " 'Utrecht': {},\n",
       " 'Den Haag': {},\n",
       " 'Rotterdam': {},\n",
       " 'Immingham': {},\n",
       " 'Doncaster': {},\n",
       " 'London': {},\n",
       " 'Hoek van Holland': {},\n",
       " 'Felixstowe': {},\n",
       " 'Ipswich': {},\n",
       " 'Colchester': {},\n",
       " 'Gouda': {}}"
      ]
     },
     "execution_count": 376,
     "metadata": {},
     "output_type": "execute_result"
    }
   ],
   "source": [
    "dict(Graphe.node)"
   ]
  },
  {
   "cell_type": "markdown",
   "metadata": {},
   "source": [
    "### TODO: Ajouter des attributs longitude et latitude aux noeuds avec Networkx en utilisant:\n",
    "* le dictionnaire \"node\" de networkx qui contient les noeuds\n",
    "* le dataframe transportnode defini plus haut\n",
    "* Des exemples d'utilisation de la fonction set_node_attributes\n",
    "https://www.programcreek.com/python/example/89530/networkx.set_node_attributes"
   ]
  },
  {
   "cell_type": "code",
   "execution_count": 377,
   "metadata": {},
   "outputs": [],
   "source": [
    "'''\n",
    "Ajouter des attributs\n",
    "Inputs: \n",
    "    Un graphe, \n",
    "    un dataframe contenant les données, \n",
    "    nom de l'attribut, \n",
    "    le nom de la colonne index du dataframe\n",
    "Pas d'output:\n",
    "Utiilisez la fonction set_node_attributes de networkx\n",
    "\n",
    "'''\n",
    "\n",
    "def ajouterAttribut(myGraphe, dfnoeuds, nomAttribut, nomIndex):\n",
    "    listeIndex = list(dfnoeuds[nomIndex])\n",
    "    listeAttr = list(dfnoeuds[nomAttribut])\n",
    "    dictio = dict(zip(listeIndex, listeAttr))\n",
    "    nx.set_node_attributes(myGraphe, dictio, nomAttribut)\n",
    "\n"
   ]
  },
  {
   "cell_type": "code",
   "execution_count": 378,
   "metadata": {},
   "outputs": [],
   "source": [
    "ajouterAttribut(Graphe, transport_nodes, \"latitude\",\"id\")\n",
    "ajouterAttribut(Graphe,  transport_nodes, \"longitude\",\"id\" )\n",
    "ajouterAttribut(Graphe,  transport_nodes, \"population\",\"id\")"
   ]
  },
  {
   "cell_type": "code",
   "execution_count": 379,
   "metadata": {
    "scrolled": true
   },
   "outputs": [
    {
     "data": {
      "text/plain": [
       "{'Amsterdam': {'latitude': 52.379189000000004,\n",
       "  'longitude': 4.899431,\n",
       "  'population': 821752},\n",
       " 'Utrecht': {'latitude': 52.092876000000004,\n",
       "  'longitude': 5.104480000000001,\n",
       "  'population': 334176},\n",
       " 'Den Haag': {'latitude': 52.078663,\n",
       "  'longitude': 4.288787999999999,\n",
       "  'population': 514861},\n",
       " 'Rotterdam': {'latitude': 51.9225,\n",
       "  'longitude': 4.47917,\n",
       "  'population': 623652},\n",
       " 'Immingham': {'latitude': 53.612390000000005,\n",
       "  'longitude': -0.22219,\n",
       "  'population': 9642},\n",
       " 'Doncaster': {'latitude': 53.52285,\n",
       "  'longitude': -1.13116,\n",
       "  'population': 302400},\n",
       " 'London': {'latitude': 51.509865000000005,\n",
       "  'longitude': -0.118092,\n",
       "  'population': 8787892},\n",
       " 'Hoek van Holland': {'latitude': 51.9775,\n",
       "  'longitude': 4.13333,\n",
       "  'population': 9382},\n",
       " 'Felixstowe': {'latitude': 51.96375,\n",
       "  'longitude': 1.3511,\n",
       "  'population': 23689},\n",
       " 'Ipswich': {'latitude': 52.05917, 'longitude': 1.15545, 'population': 133384},\n",
       " 'Colchester': {'latitude': 51.88921,\n",
       "  'longitude': 0.9042100000000001,\n",
       "  'population': 104390},\n",
       " 'Gouda': {'latitude': 52.01667, 'longitude': 4.70833, 'population': 70939}}"
      ]
     },
     "execution_count": 379,
     "metadata": {},
     "output_type": "execute_result"
    }
   ],
   "source": [
    "dict(Graphe.node)"
   ]
  },
  {
   "cell_type": "code",
   "execution_count": 380,
   "metadata": {},
   "outputs": [
    {
     "data": {
      "text/plain": [
       "{('Amsterdam', 'Utrecht'): {'src': 'Amsterdam',\n",
       "  'dst': 'Utrecht',\n",
       "  'relationship': 'EROAD',\n",
       "  'cost': 46},\n",
       " ('Amsterdam', 'Den Haag'): {'src': 'Amsterdam',\n",
       "  'dst': 'Den Haag',\n",
       "  'relationship': 'EROAD',\n",
       "  'cost': 59},\n",
       " ('Amsterdam', 'Immingham'): {'src': 'Amsterdam',\n",
       "  'dst': 'Immingham',\n",
       "  'relationship': 'EROAD',\n",
       "  'cost': 369},\n",
       " ('Utrecht', 'Gouda'): {'src': 'Gouda',\n",
       "  'dst': 'Utrecht',\n",
       "  'relationship': 'EROAD',\n",
       "  'cost': 35},\n",
       " ('Den Haag', 'Rotterdam'): {'src': 'Den Haag',\n",
       "  'dst': 'Rotterdam',\n",
       "  'relationship': 'EROAD',\n",
       "  'cost': 26},\n",
       " ('Den Haag', 'Hoek van Holland'): {'src': 'Hoek van Holland',\n",
       "  'dst': 'Den Haag',\n",
       "  'relationship': 'EROAD',\n",
       "  'cost': 27},\n",
       " ('Den Haag', 'Gouda'): {'src': 'Den Haag',\n",
       "  'dst': 'Gouda',\n",
       "  'relationship': 'EROAD',\n",
       "  'cost': 32},\n",
       " ('Rotterdam', 'Gouda'): {'src': 'Gouda',\n",
       "  'dst': 'Rotterdam',\n",
       "  'relationship': 'EROAD',\n",
       "  'cost': 25},\n",
       " ('Rotterdam', 'Hoek van Holland'): {'src': 'Hoek van Holland',\n",
       "  'dst': 'Rotterdam',\n",
       "  'relationship': 'EROAD',\n",
       "  'cost': 33},\n",
       " ('Immingham', 'Doncaster'): {'src': 'Immingham',\n",
       "  'dst': 'Doncaster',\n",
       "  'relationship': 'EROAD',\n",
       "  'cost': 74},\n",
       " ('Doncaster', 'London'): {'src': 'Doncaster',\n",
       "  'dst': 'London',\n",
       "  'relationship': 'EROAD',\n",
       "  'cost': 277},\n",
       " ('London', 'Colchester'): {'src': 'London',\n",
       "  'dst': 'Colchester',\n",
       "  'relationship': 'EROAD',\n",
       "  'cost': 106},\n",
       " ('Hoek van Holland', 'Felixstowe'): {'src': 'Felixstowe',\n",
       "  'dst': 'Hoek van Holland',\n",
       "  'relationship': 'EROAD',\n",
       "  'cost': 207},\n",
       " ('Felixstowe', 'Ipswich'): {'src': 'Ipswich',\n",
       "  'dst': 'Felixstowe',\n",
       "  'relationship': 'EROAD',\n",
       "  'cost': 22},\n",
       " ('Ipswich', 'Colchester'): {'src': 'Colchester',\n",
       "  'dst': 'Ipswich',\n",
       "  'relationship': 'EROAD',\n",
       "  'cost': 32}}"
      ]
     },
     "execution_count": 380,
     "metadata": {},
     "output_type": "execute_result"
    }
   ],
   "source": [
    "dict(Graphe.edges)"
   ]
  },
  {
   "cell_type": "markdown",
   "metadata": {},
   "source": [
    "### Representer les noeuds sur une carte avec Folium"
   ]
  },
  {
   "cell_type": "code",
   "execution_count": 381,
   "metadata": {},
   "outputs": [],
   "source": [
    "import folium\n",
    "'''\n",
    "On construit le Map avec une location par defaut\n",
    "'''\n",
    "basemap = folium.Map(\n",
    "    location=[52.3791890, 4.899431],\n",
    "    zoom_start=12,\n",
    "    tiles='Stamen Toner'\n",
    ")\n"
   ]
  },
  {
   "cell_type": "code",
   "execution_count": 382,
   "metadata": {},
   "outputs": [
    {
     "data": {
      "text/html": [
       "<div style=\"width:100%;\"><div style=\"position:relative;width:100%;height:0;padding-bottom:60%;\"><span style=\"color:#565656\">Make this Notebook Trusted to load map: File -> Trust Notebook</span><iframe src=\"about:blank\" style=\"position:absolute;width:100%;height:100%;left:0;top:0;border:none !important;\" data-html=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 onload=\"this.contentDocument.open();this.contentDocument.write(atob(this.getAttribute('data-html')));this.contentDocument.close();\" allowfullscreen webkitallowfullscreen mozallowfullscreen></iframe></div></div>"
      ],
      "text/plain": [
       "<folium.folium.Map at 0x690e3a1e48>"
      ]
     },
     "execution_count": 382,
     "metadata": {},
     "output_type": "execute_result"
    }
   ],
   "source": [
    "basemap"
   ]
  },
  {
   "cell_type": "markdown",
   "metadata": {},
   "source": [
    "### Ajouter des marqueurs pour tous les noeuds du reseau avec folium.Marker"
   ]
  },
  {
   "cell_type": "code",
   "execution_count": 383,
   "metadata": {},
   "outputs": [
    {
     "data": {
      "text/html": [
       "<div style=\"width:100%;\"><div style=\"position:relative;width:100%;height:0;padding-bottom:60%;\"><span style=\"color:#565656\">Make this Notebook Trusted to load map: File -> Trust Notebook</span><iframe src=\"about:blank\" style=\"position:absolute;width:100%;height:100%;left:0;top:0;border:none !important;\" data-html=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 onload=\"this.contentDocument.open();this.contentDocument.write(atob(this.getAttribute('data-html')));this.contentDocument.close();\" allowfullscreen webkitallowfullscreen mozallowfullscreen></iframe></div></div>"
      ],
      "text/plain": [
       "<folium.folium.Map at 0x690e3a1e48>"
      ]
     },
     "execution_count": 383,
     "metadata": {},
     "output_type": "execute_result"
    }
   ],
   "source": [
    "for i in Graphe.node:\n",
    "    folium.Marker([Graphe.node[i]['latitude'],Graphe.node[i]['longitude']],tooltip = 'Population '+str(Graphe.node[i]['longitude'])).add_to(basemap)\n",
    "basemap"
   ]
  },
  {
   "cell_type": "code",
   "execution_count": 349,
   "metadata": {},
   "outputs": [],
   "source": [
    "'''\n",
    "Cette fonction permet de construire une liste de liste comprenant pour chaque\n",
    "sous-liste ses coordonnées et celles d'un voisin\n",
    "Ces points peuvent etre utilisés pour représenter les lignes dans la carte\n",
    "Input: le graphe\n",
    "Output: Une liste de couples representant les longitudes et latitudes d'un point et d'un de ses voisins\n",
    "'''\n",
    "def construirePointsImage(myGraphe):\n",
    "    points = []\n",
    "    for i in myGraphe.node:\n",
    "        \n",
    "        for neighbor in myGraphe.neighbors(i):\n",
    "            S = []\n",
    "            S.append([myGraphe.node[i][\"latitude\"],myGraphe.node[i][\"longitude\"]])\n",
    "            S.append([myGraphe.node[neighbor][\"latitude\"],myGraphe.node[neighbor][\"longitude\"]])\n",
    "            points.append(S)\n",
    "    return points\n",
    "        "
   ]
  },
  {
   "cell_type": "code",
   "execution_count": 350,
   "metadata": {},
   "outputs": [
    {
     "data": {
      "text/plain": [
       "[[[52.379189000000004, 4.899431], [52.092876000000004, 5.104480000000001]],\n",
       " [[52.379189000000004, 4.899431], [52.078663, 4.288787999999999]],\n",
       " [[52.379189000000004, 4.899431], [53.612390000000005, -0.22219]],\n",
       " [[52.092876000000004, 5.104480000000001], [52.379189000000004, 4.899431]],\n",
       " [[52.092876000000004, 5.104480000000001], [52.01667, 4.70833]],\n",
       " [[52.078663, 4.288787999999999], [52.379189000000004, 4.899431]],\n",
       " [[52.078663, 4.288787999999999], [51.9225, 4.47917]],\n",
       " [[52.078663, 4.288787999999999], [51.9775, 4.13333]],\n",
       " [[52.078663, 4.288787999999999], [52.01667, 4.70833]],\n",
       " [[51.9225, 4.47917], [52.078663, 4.288787999999999]],\n",
       " [[51.9225, 4.47917], [52.01667, 4.70833]],\n",
       " [[51.9225, 4.47917], [51.9775, 4.13333]],\n",
       " [[53.612390000000005, -0.22219], [52.379189000000004, 4.899431]],\n",
       " [[53.612390000000005, -0.22219], [53.52285, -1.13116]],\n",
       " [[53.52285, -1.13116], [53.612390000000005, -0.22219]],\n",
       " [[53.52285, -1.13116], [51.509865000000005, -0.118092]],\n",
       " [[51.509865000000005, -0.118092], [53.52285, -1.13116]],\n",
       " [[51.509865000000005, -0.118092], [51.88921, 0.9042100000000001]],\n",
       " [[51.9775, 4.13333], [52.078663, 4.288787999999999]],\n",
       " [[51.9775, 4.13333], [51.96375, 1.3511]],\n",
       " [[51.9775, 4.13333], [51.9225, 4.47917]],\n",
       " [[51.96375, 1.3511], [51.9775, 4.13333]],\n",
       " [[51.96375, 1.3511], [52.05917, 1.15545]],\n",
       " [[52.05917, 1.15545], [51.96375, 1.3511]],\n",
       " [[52.05917, 1.15545], [51.88921, 0.9042100000000001]],\n",
       " [[51.88921, 0.9042100000000001], [52.05917, 1.15545]],\n",
       " [[51.88921, 0.9042100000000001], [51.509865000000005, -0.118092]],\n",
       " [[52.01667, 4.70833], [51.9225, 4.47917]],\n",
       " [[52.01667, 4.70833], [52.092876000000004, 5.104480000000001]],\n",
       " [[52.01667, 4.70833], [52.078663, 4.288787999999999]]]"
      ]
     },
     "execution_count": 350,
     "metadata": {},
     "output_type": "execute_result"
    }
   ],
   "source": [
    "coordonneesvoisins = construirePointsImage(Graphe)\n",
    "coordonneesvoisins"
   ]
  },
  {
   "cell_type": "markdown",
   "metadata": {},
   "source": [
    "### TODO: Visualiser une carte du graphe avec ses noeuds et les arcs sous forme lignes"
   ]
  },
  {
   "cell_type": "code",
   "execution_count": 351,
   "metadata": {},
   "outputs": [],
   "source": [
    "'''\n",
    "A faire\n",
    "Permet de visualiser une carte du graphe avec ses noeuds et les arcs sous forme lignes\n",
    "Prend en entrée:\n",
    "- un graphe\n",
    "- les coordonnées entre chaque point et ses voisins calculées avec la fonction ci-dessus\n",
    "- Une location par defaut\n",
    "- Un paramétrage de folium\n",
    "Output: la carte\n",
    "'''\n",
    "        \n",
    "def visualiserFolium(myGraphe, points, locationpardefaut = [52.3791890, 4.899431],tiles='Stamen Toner' ):\n",
    "    \n",
    "    points = construirePointsImage(myGraphe)\n",
    "    folium.PolyLine(points, color=\"red\").add_to(basemap)\n",
    "    \n",
    "    return basemap\n",
    "    \n"
   ]
  },
  {
   "cell_type": "code",
   "execution_count": 352,
   "metadata": {},
   "outputs": [
    {
     "data": {
      "text/html": [
       "<div style=\"width:100%;\"><div style=\"position:relative;width:100%;height:0;padding-bottom:60%;\"><span style=\"color:#565656\">Make this Notebook Trusted to load map: File -> Trust Notebook</span><iframe src=\"about:blank\" style=\"position:absolute;width:100%;height:100%;left:0;top:0;border:none !important;\" data-html=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 onload=\"this.contentDocument.open();this.contentDocument.write(atob(this.getAttribute('data-html')));this.contentDocument.close();\" allowfullscreen webkitallowfullscreen mozallowfullscreen></iframe></div></div>"
      ],
      "text/plain": [
       "<folium.folium.Map at 0x690e524088>"
      ]
     },
     "execution_count": 352,
     "metadata": {},
     "output_type": "execute_result"
    }
   ],
   "source": [
    "visualiserFolium(Graphe,coordonneesvoisins)"
   ]
  },
  {
   "cell_type": "markdown",
   "metadata": {},
   "source": [
    "### Partie 2\n",
    "* Dans cette partie vous allez implémenter des ADT: Noeud, Graphe, File, Pile\n"
   ]
  },
  {
   "cell_type": "markdown",
   "metadata": {},
   "source": [
    "#### Implementer la classe Noeud\n",
    "* Un noeud a un nom\n",
    "* Un noeud a des attributs sous forme de dictionnaire pyton avec comme cle:\n",
    "    une liste de coordonnes ( latitude, longitude)\n",
    "    \n",
    "    la taille de la population\n",
    "* La liste des voisins sera initialisée à la création des arcs dans le graphe \n",
    "*  Vous ajouterez toutes les methodes nécessaires"
   ]
  },
  {
   "cell_type": "code",
   "execution_count": 353,
   "metadata": {},
   "outputs": [],
   "source": [
    "class Noeud:\n",
    "    def __init__(self,name):\n",
    "        self.name = name\n",
    "        self.attributs = {}\n",
    "        self.listeNomVoisin = []\n",
    "        \n",
    "    def setAttribut(self,key, values):\n",
    "        self.attributs[key] = values\n",
    "        \n",
    "        \n",
    "    def getAttribut(self,key):\n",
    "        return self.attributs[key]\n",
    "    \n",
    "    def getName(self): \n",
    "        return self.name\n",
    "    '''\n",
    "    Deux noeuds sont egaux s'ils ont même name\n",
    "    '''\n",
    "    def egal(self, noeud):\n",
    "        if self.name == noeud.getName():\n",
    "            return True\n",
    "        return False"
   ]
  },
  {
   "cell_type": "code",
   "execution_count": 354,
   "metadata": {},
   "outputs": [
    {
     "data": {
      "text/plain": [
       "{'latitude': [12, 13, 14],\n",
       " 'longitude': [34.5, 28, 19],\n",
       " 'population': [100, 250, 400]}"
      ]
     },
     "execution_count": 354,
     "metadata": {},
     "output_type": "execute_result"
    }
   ],
   "source": [
    "n1 = Noeud(\"myNode\")\n",
    "n1.setAttribut(\"latitude\",[12,13,14])\n",
    "n1.setAttribut(\"longitude\",[34.5,28,19])\n",
    "n1.setAttribut(\"population\",[100,250,400])\n",
    "\n",
    "# Afficher le dictionnaire contenant les attributs et leurs valeurs\n",
    "n1.attributs\n"
   ]
  },
  {
   "cell_type": "code",
   "execution_count": 355,
   "metadata": {},
   "outputs": [
    {
     "data": {
      "text/plain": [
       "[34.5, 28, 19]"
      ]
     },
     "execution_count": 355,
     "metadata": {},
     "output_type": "execute_result"
    }
   ],
   "source": [
    "# Afficher les valeurs de l'attribut longitude\n",
    "n1.getAttribut(\"longitude\")"
   ]
  },
  {
   "cell_type": "code",
   "execution_count": 356,
   "metadata": {},
   "outputs": [
    {
     "data": {
      "text/plain": [
       "False"
      ]
     },
     "execution_count": 356,
     "metadata": {},
     "output_type": "execute_result"
    }
   ],
   "source": [
    "n2 = Noeud(\"myNode1\")\n",
    "# comparaison des noeuds n1 et n2\n",
    "n1.egal(n2)"
   ]
  },
  {
   "cell_type": "markdown",
   "metadata": {},
   "source": [
    "#### Implementer la classe Graphe\n",
    "* Les noeuds des graphes doivent être initialisé à l'aide du fichier \n",
    "transport-node.csv ( vous n'utiliserez plus pandas). Vous initiliserez aussi les attributs\n",
    "* Les arcs des graphes doivent être initialisé à l'aide du fichier \n",
    "transport-relations.csv ( vous n'utiliserez plus pandas). Vous initiliserez aussi les attributs\n",
    "* On doit pouvoir retrouver les coordonnées d'un noeud grâce à son nom\n",
    "* On doit avoir la liste des noeuds voisins d'un noeud donné. Le graphe est non orienté donc le voisinage est reciproque\n",
    "        "
   ]
  },
  {
   "cell_type": "code",
   "execution_count": 357,
   "metadata": {},
   "outputs": [],
   "source": [
    "class Graphe:\n",
    "    '''\n",
    "    Les noeuds seront mis dans une liste\n",
    "    Les arcs forment un dictionnaire avec comme clé les noms des noeuds et comme valeurs une liste de noeud\n",
    "    '''\n",
    "    def __init__(self):\n",
    "        self.noeuds = []\n",
    "        self.arcs = {}\n",
    "    '''\n",
    "    Creer les noeuds avec un fichier csv\n",
    "    On peut mettre tous les noeuds dans une liste\n",
    "    On doit attribuer à chaque noeud ses attributs: latitude, longitude, population\n",
    "    On initialise le dictionnaire des arcs en creant la cle avec le nom du noeud et la valeur avec une liste vide\n",
    "    N'oubliez pas de gerer les exceptions\n",
    "    '''    \n",
    "    def creerNoeuds(self,fichiernoeuds):\n",
    "        listeNoeud = []\n",
    "        latitudeListe = []\n",
    "        longitudeListe = []\n",
    "        popListe = []\n",
    "        listKey = []\n",
    "        j=0 \n",
    "        k=1\n",
    "        with open(fichiernoeuds) as csvfile:\n",
    "            try:\n",
    "                monFichier = csv.reader(csvfile, delimiter=',')\n",
    "                liste = []\n",
    "            except:\n",
    "                print(\"Fichier non lu\")\n",
    "                \n",
    "            for row in monFichier:\n",
    "                liste.append(row) \n",
    "                \n",
    "        for noeud in liste:\n",
    "            node = Noeud(noeud[0])\n",
    "            listeNoeud.append(node)\n",
    "            listKey.append(noeud[0])\n",
    "            latitudeListe.append(noeud[1])\n",
    "            longitudeListe.append(noeud[2])\n",
    "            popListe.append(noeud[3])\n",
    "                \n",
    "          \n",
    "        for i in listeNoeud:\n",
    "            i.setAttribut(\"latitude\",latitudeListe[j])\n",
    "            i.setAttribut(\"longitude\",longitudeListe[j])\n",
    "            i.setAttribut(\"population\",popListe[j])     \n",
    "            j = j+1\n",
    "\n",
    "        self.noeuds = listeNoeud\n",
    "       \n",
    "        while k in range(1, len(listeNoeud)):\n",
    "            self.arcs[listKey[k]] = []\n",
    "            k=k+1\n",
    "        \n",
    "        print(\"column Names : \" ,liste[0][0], \", \", liste[0][1], \", \", liste[0][2], \", \",liste[0][2])\n",
    "        print(\"processed : \", len(self.noeuds), \" lines\")   \n",
    "        \n",
    "    '''\n",
    "    - Creer les arcs avec un  fichier csv\n",
    "    - Utilisez un dictionnaire pour les arcs\n",
    "    - N'oubliez pas que le graphe est non oriente.\n",
    "    - Pour chaque noeud on mettra des tuples dans la liste de ses voisins: (nom du voisin, cout du chemin)\n",
    "    - Gerer les exceptions\n",
    "    '''   \n",
    "    def creerArc(self, fichierarcs):\n",
    "        with open(fichierarcs) as csvfile:\n",
    "            try:\n",
    "                monFichier = csv.reader(csvfile, delimiter=',')\n",
    "                liste = []\n",
    "            except:\n",
    "                print(\"Fichier non lu\")\n",
    "            for row in monFichier:\n",
    "                liste.append(row)\n",
    "            \n",
    "    '''\n",
    "    Retrouver un noeud à partir de son nom\n",
    "    '''   \n",
    "    def getNoeud(self,name):\n",
    "        for i in range(len(self.noeuds)):\n",
    "            if(name == self.noeuds[i].getName()):\n",
    "                return self.noeuds[i]\n",
    "        \n",
    "            \n",
    "    '''\n",
    "    Trouver les noeuds voisins d'un noeud donne\n",
    "    '''\n",
    "    def getVoisins(self,noeud):\n",
    "        \n",
    "        pass\n",
    "    \n",
    "    '''\n",
    "    Recuperer pour un noeud donne les latitudes et longitudes de ses voisins\n",
    "    Constituer des pairs de listes de coordonnées entre le point et ses voisins\n",
    "    pour une representation sous folium\n",
    "    \n",
    "    '''\n",
    "    def getCoordonnesVoisins(self, noeud):\n",
    "        listecoord = []\n",
    "        # voise est un tuple et je veux recuperer le nom du noeud voisin \n",
    "        # qui est le premier element du tuple\n",
    "        \n",
    "        for voise in self.getVoisins(noeud):\n",
    "            # Recupere un noeud voisin\n",
    "            noeudVoisin = self.getNoeud(voise[0])\n",
    "            listecoord.append([noeud.getAttribut('coordonnees'),noeudVoisin.getAttribut('coordonnees')])\n",
    "        return listecoord\n",
    "    \n",
    "    '''\n",
    "    Recuperer les coordonnees d'une liste de neouds pour visualiser sous folium\n",
    "    Prend en entrée une liste de nom de noeud\n",
    "    Retourne une liste de sous-listes à deux elements de coordonnées\n",
    "    '''\n",
    "    def getListeCoordonnees(self,listeNoeuds):\n",
    "        coord = []\n",
    "        for name in listeNoeuds:\n",
    "            coord.append(self.getNoeud(name).getAttribut('coordonnees'))\n",
    "        return coord\n",
    "    \n",
    "    '''\n",
    "    Visualiser les noeuds et les arcs sous folium\n",
    "    Entree: le parametre explored sera utilisé pour les parcours de graphe\n",
    "    '''\n",
    "    \n",
    "    def visualiserFolium(self, locationpardefaut = [52.3791890, 4.899431],tiles='Stamen Toner',explored = None ):\n",
    "    \n",
    "        basemap = folium.Map(location= locationpardefaut,zoom_start=6,tiles=tiles)\n",
    "        \n",
    "        \n",
    "        \n",
    "        for i in self.noeuds:\n",
    "            \n",
    "            folium.Marker(i.getAttribut('coordonnees'),tooltip = 'Population '+str(i.getAttribut('population'))).add_to(basemap)\n",
    "            locations = self.getCoordonnesVoisins(i)\n",
    "            if len(locations)!= 0:\n",
    "                folium.PolyLine(self.getCoordonnesVoisins(i), color=\"red\", weight=2.5, opacity=1).add_to(basemap)\n",
    "        if explored != None:\n",
    "            folium.PolyLine(self.getListeCoordonnees(explored), color=\"green\", weight=2.5, opacity=1).add_to(basemap)\n",
    "        return basemap"
   ]
  },
  {
   "cell_type": "code",
   "execution_count": 358,
   "metadata": {},
   "outputs": [
    {
     "name": "stdout",
     "output_type": "stream",
     "text": [
      "column Names :  id ,  latitude ,  longitude ,  longitude\n",
      "processed :  13  lines\n",
      "None\n"
     ]
    }
   ],
   "source": [
    "G = Graphe()\n",
    "print(G.creerNoeuds(\"data/transport-nodes.csv\"))"
   ]
  },
  {
   "cell_type": "markdown",
   "metadata": {},
   "source": [
    "### Partie 4\n",
    "* Implementer les classes File et Pile en utilisant les list en python\n",
    "\n",
    "\n"
   ]
  },
  {
   "cell_type": "code",
   "execution_count": 359,
   "metadata": {},
   "outputs": [],
   "source": [
    "class Pile():\n",
    "    '''\n",
    "    Classe Pile: voir les definitions ci-dessous\n",
    "    La classe dispose d'une structure de type list pour ranger les données\n",
    "    Les consultations, les insertions, les suppressions se font du même cote\n",
    "    Dernier arrive premier servi : LIFO\n",
    "    '''\n",
    "    def __init__(self):\n",
    "        self.elements = []\n",
    "    '''\n",
    "    Insere un objet en tete de la pile\n",
    "    '''\n",
    "    def push(self,noeud):\n",
    "        self.elements.append(noeud)\n",
    "    '''\n",
    "    Retourne True si  un noeud est dans la pile\n",
    "    '''\n",
    "    \n",
    "    def contains_noeud(self, name):\n",
    "        for i in self.elements:\n",
    "            \n",
    "            if(i.getName() == name):\n",
    "                return True\n",
    "        return False\n",
    "                \n",
    "    '''\n",
    "    Retourne true si la pile est vide\n",
    "    '''\n",
    "    def empty(self):\n",
    "        if(len(self.elements)==0):\n",
    "            return True\n",
    "        return False\n",
    "        \n",
    "    '''\n",
    "    Retourne et supprime l'element en tete de pile\n",
    "    Retourne une exception si la pile est vide\n",
    "    '''\n",
    "    def remove(self):\n",
    "        try:\n",
    "            return self.elements.pop()\n",
    "        except:\n",
    "            print (\"Error : la pile est vide\")\n",
    "\n"
   ]
  },
  {
   "cell_type": "code",
   "execution_count": 360,
   "metadata": {},
   "outputs": [
    {
     "name": "stdout",
     "output_type": "stream",
     "text": [
      "True\n",
      "False\n",
      "Utrecht\n",
      "Error : la pile est vide\n"
     ]
    }
   ],
   "source": [
    "pile = Pile()\n",
    "\n",
    "#Ajouter en tete de pile\n",
    "pile.push(G.noeuds[0])\n",
    "pile.push(G.noeuds[1])\n",
    "pile.push(G.noeuds[2])\n",
    "\n",
    "#Vérifier si la pile contient un noeud de nom Amsterdam\n",
    "print(pile.contains_noeud(\"Amsterdam\"))\n",
    "\n",
    "#verifier si la pile est vide\n",
    "print(pile.empty())\n",
    "\n",
    "#retourne le noeud en tete supprimé de la pile \n",
    "print(pile.remove().getName())\n",
    "\n",
    "#supprimer l'entete d'une pile vide\n",
    "p = Pile()\n",
    "p.remove()"
   ]
  },
  {
   "cell_type": "code",
   "execution_count": 361,
   "metadata": {},
   "outputs": [],
   "source": [
    "class File(Pile):\n",
    "    \n",
    "    '''\n",
    "    Classe File: voir les definitions ci-dessous\n",
    "    La classe dispose d'une structure de type list pour ranger les données\n",
    "    Les éléments sont enfilés (insérés) du coté arrière et défilés (retirés)\n",
    "    du coté avant\n",
    "    Premier arrive premier servi : FIFO\n",
    "    File et Pile peuvent partager certaines methodes donc utilisez l'heritage pour definir\n",
    "    la classe File. \n",
    "    Normalement vous ne devez changer l'implementation d'une seule methode\n",
    "    '''\n",
    "   \n",
    "        \n",
    "    def remove(self):\n",
    "        for i in self.elements:\n",
    "            return i.remove()\n",
    "        "
   ]
  },
  {
   "cell_type": "code",
   "execution_count": 362,
   "metadata": {},
   "outputs": [
    {
     "data": {
      "text/plain": [
       "True"
      ]
     },
     "execution_count": 362,
     "metadata": {},
     "output_type": "execute_result"
    }
   ],
   "source": [
    "issubclass(File, Pile)"
   ]
  },
  {
   "cell_type": "markdown",
   "metadata": {},
   "source": [
    "### Partie 4\n",
    "* Implementer les algorithmes de parcours de graphe: BFS ET DFS\n",
    "* Algorithme BFS et DFS\n",
    "https://fr.wikipedia.org/wiki/Algorithme_de_parcours_en_largeur\n",
    "https://fr.wikipedia.org/wiki/Algorithme_de_parcours_en_profondeur\n",
    "Les deux parcours utilisent le même algorithme mais différent suivant la structure de données utilisée comme frontiére. La frontiére est une structure de données qui permet manipuler les noeuds intermediaires. \n",
    "#### Algorithme\n",
    "* On met le noeud source dans la frontiére\n",
    "* On cree une structure vide devant contenir les noeuds explorés\n",
    "* Repeter\n",
    "    * Si la frontiere est vide pas de solution\n",
    "    * Prendre un noeud dans la frontiere ( idée de suppression)\n",
    "    * Si le noeud est le noeud destination alors solution\n",
    "    * Sinon:\n",
    "        * Mettre le noeud dans l'ensemble des noeuds deja explorés\n",
    "        * Ajouter les voisins dans la frontiére s'ils ne sont pas dans la frontiere et s'ils ne sont pas deja explores\n"
   ]
  },
  {
   "cell_type": "code",
   "execution_count": null,
   "metadata": {},
   "outputs": [],
   "source": [
    "'''\n",
    "Implémenter le parcours en profondeur non recursif entre deux noeuds\n",
    "Prend en parametre:\n",
    "- un graphe\n",
    "- un noeud source\n",
    "- un noeud destination\n",
    "Output:\n",
    "une liste contenant les noms des noeuds explorés pour aller du noeud source vers le noeud destination \n",
    "Vous completerez certaines parties du code\n",
    "'''\n",
    "\n",
    "def parcoursDFS(myGraphe,noeudSRC,noeudDST):\n",
    "        \"\"\"Trouver un parcours DFS entre noeudSRC et noeudDST\"\"\"\n",
    "\n",
    "        # Le nombre de noeuds explorés\n",
    "        num_explored = 0\n",
    "\n",
    "        # Initialisation de la frontiere avec le noeud source\n",
    "        \n",
    "        frontiere = None \n",
    "        frontiere.push(noeudSRC)\n",
    "\n",
    "        # Initialisation de la liste des noeuds explorés\n",
    "        explored = set()\n",
    "\n",
    "        # On boucle jusuq'à trouver la solution\n",
    "        while True:\n",
    "\n",
    "            # S'il n'y a aucun noeud dans la frontiére alors pas de solution\n",
    "            if frontiere.empty():\n",
    "                raise Exception(\"no solution\")\n",
    "\n",
    "            # Choisir un node dans la frontiere\n",
    "            node = None\n",
    "            num_explored += 1\n",
    "\n",
    "            # Si ce noeud est le noeud destination\n",
    "            if node.egal(noeudDST):\n",
    "                \n",
    "                # Ajouter le aux noeuds deja explorés\n",
    "                explored.add(noeudDST.name)\n",
    "                \n",
    "                return explored, num_explored\n",
    "\n",
    "            # Marquer le noeud comme explore\n",
    "            explored......\n",
    "\n",
    "            # Ajouter tous les voisins du noeud à la frontiere\n",
    "            for n in myGraphe.getVoisins(node):\n",
    "                \n",
    "                if not frontiere.contains_noeud(n[0]) and n[0] not in explored:\n",
    "                    \n",
    "                    frontiere...................\n",
    "\n"
   ]
  },
  {
   "cell_type": "code",
   "execution_count": null,
   "metadata": {},
   "outputs": [],
   "source": [
    "# Visualisation des arcs en rouge et visualisation des noeuds parcourus pour aller du premier au deuxieme noeud en vert\n",
    "G.visualiserFolium(explored = list(parcoursDFS(G,G.noeuds[0],G.noeuds[1])[0]))"
   ]
  },
  {
   "cell_type": "code",
   "execution_count": 365,
   "metadata": {},
   "outputs": [],
   "source": [
    "#### TODO: Implementer le parcours en profondeur recursif et calculer le coût du chemin"
   ]
  },
  {
   "cell_type": "code",
   "execution_count": 366,
   "metadata": {},
   "outputs": [],
   "source": [
    "#### TODO: Implementer le parcours BFS et calculer le coût du chemin"
   ]
  },
  {
   "cell_type": "code",
   "execution_count": 369,
   "metadata": {},
   "outputs": [],
   "source": [
    "'''\n",
    "Implémenter le parcours en largeur non entre deux noeuds\n",
    "'''\n",
    "\n",
    "def parcoursBFS(myGraphe,noeudSRC,noeudDST):\n",
    "    pass\n",
    "    \"\"\"Trouver un parcours DFS entre noeudSRC et noeudDST\"\"\"\n",
    "\n",
    "        \n",
    "\n"
   ]
  },
  {
   "cell_type": "code",
   "execution_count": null,
   "metadata": {},
   "outputs": [],
   "source": [
    "G.visualiserFolium(explored = list(parcoursBFS(G,G.noeuds[0],G.noeuds[1])[0]))"
   ]
  },
  {
   "cell_type": "markdown",
   "metadata": {},
   "source": [
    "### Partie 5\n",
    "* Implementer les algorithmes A star où le choix se portera sur le voisin ayant le plus petit coût\n",
    "\n"
   ]
  },
  {
   "cell_type": "markdown",
   "metadata": {},
   "source": [
    "#### TODO: Implementer le parcours avec l'algorithme du Greedy Best First Search. Vous calculerez les coûts de chape noeud par rapport \n",
    "au noeud destination\n",
    "\n",
    "#### TODO: Implementer le parcours avec l'algorithme du A*. Vous calculerez les coûts de chape noeud par rapport \n",
    "au noeud destination et au noeud origine\n",
    "\n",
    "https://www.mygreatlearning.com/blog/best-first-search-bfs/"
   ]
  },
  {
   "cell_type": "code",
   "execution_count": null,
   "metadata": {},
   "outputs": [],
   "source": []
  }
 ],
 "metadata": {
  "kernelspec": {
   "display_name": "Python 3",
   "language": "python",
   "name": "python3"
  },
  "language_info": {
   "codemirror_mode": {
    "name": "ipython",
    "version": 3
   },
   "file_extension": ".py",
   "mimetype": "text/x-python",
   "name": "python",
   "nbconvert_exporter": "python",
   "pygments_lexer": "ipython3",
   "version": "3.7.4"
  }
 },
 "nbformat": 4,
 "nbformat_minor": 2
}
